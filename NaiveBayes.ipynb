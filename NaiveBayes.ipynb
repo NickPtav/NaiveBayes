{
 "cells": [
  {
   "cell_type": "markdown",
   "id": "a0f95b08-c2b5-4e1a-8888-b73ee7a9d84c",
   "metadata": {},
   "source": [
    "# Types of Naive Bayes algorithm\n",
    "- Gaussian Naïve Bayes\n",
    "- Multinomial Naïve Bayes\n",
    "- Bernoulli Naïve Bayes"
   ]
  },
  {
   "cell_type": "markdown",
   "id": "320e14e6-4f5d-4b0e-862d-38fc78f18099",
   "metadata": {},
   "source": [
    "## Coding from scrath\n",
    "\n",
    "Source of dataset: https://www.kaggle.com/datasets/merishnasuwal/breast-cancer-prediction-dataset"
   ]
  },
  {
   "cell_type": "code",
   "execution_count": 74,
   "id": "70a95158-3c16-4977-a1e4-3322b40b3556",
   "metadata": {},
   "outputs": [],
   "source": [
    "# Numerical library\n",
    "import numpy as np\n",
    "\n",
    "# DataScience library\n",
    "import pandas as pd\n",
    "\n",
    "# Show the chards\n",
    "import matplotlib.pyplot as plt\n",
    "\n",
    "# Create the heatmap\n",
    "import seaborn as sns\n",
    "\n",
    "from IPython.display import Image"
   ]
  },
  {
   "cell_type": "markdown",
   "id": "713492b2-675f-41cb-a530-225ed2653693",
   "metadata": {},
   "source": [
    "## Dataset"
   ]
  },
  {
   "cell_type": "code",
   "execution_count": 75,
   "id": "6daf9c7e-1c9d-47b3-bf47-37b67bb3816b",
   "metadata": {},
   "outputs": [
    {
     "data": {
      "text/html": [
       "<div>\n",
       "<style scoped>\n",
       "    .dataframe tbody tr th:only-of-type {\n",
       "        vertical-align: middle;\n",
       "    }\n",
       "\n",
       "    .dataframe tbody tr th {\n",
       "        vertical-align: top;\n",
       "    }\n",
       "\n",
       "    .dataframe thead th {\n",
       "        text-align: right;\n",
       "    }\n",
       "</style>\n",
       "<table border=\"1\" class=\"dataframe\">\n",
       "  <thead>\n",
       "    <tr style=\"text-align: right;\">\n",
       "      <th></th>\n",
       "      <th>mean_radius</th>\n",
       "      <th>mean_texture</th>\n",
       "      <th>mean_perimeter</th>\n",
       "      <th>mean_area</th>\n",
       "      <th>mean_smoothness</th>\n",
       "      <th>diagnosis</th>\n",
       "    </tr>\n",
       "  </thead>\n",
       "  <tbody>\n",
       "    <tr>\n",
       "      <th>0</th>\n",
       "      <td>17.99</td>\n",
       "      <td>10.38</td>\n",
       "      <td>122.80</td>\n",
       "      <td>1001.0</td>\n",
       "      <td>0.11840</td>\n",
       "      <td>0</td>\n",
       "    </tr>\n",
       "    <tr>\n",
       "      <th>1</th>\n",
       "      <td>20.57</td>\n",
       "      <td>17.77</td>\n",
       "      <td>132.90</td>\n",
       "      <td>1326.0</td>\n",
       "      <td>0.08474</td>\n",
       "      <td>0</td>\n",
       "    </tr>\n",
       "    <tr>\n",
       "      <th>2</th>\n",
       "      <td>19.69</td>\n",
       "      <td>21.25</td>\n",
       "      <td>130.00</td>\n",
       "      <td>1203.0</td>\n",
       "      <td>0.10960</td>\n",
       "      <td>0</td>\n",
       "    </tr>\n",
       "    <tr>\n",
       "      <th>3</th>\n",
       "      <td>11.42</td>\n",
       "      <td>20.38</td>\n",
       "      <td>77.58</td>\n",
       "      <td>386.1</td>\n",
       "      <td>0.14250</td>\n",
       "      <td>0</td>\n",
       "    </tr>\n",
       "    <tr>\n",
       "      <th>4</th>\n",
       "      <td>20.29</td>\n",
       "      <td>14.34</td>\n",
       "      <td>135.10</td>\n",
       "      <td>1297.0</td>\n",
       "      <td>0.10030</td>\n",
       "      <td>0</td>\n",
       "    </tr>\n",
       "  </tbody>\n",
       "</table>\n",
       "</div>"
      ],
      "text/plain": [
       "   mean_radius  mean_texture  mean_perimeter  mean_area  mean_smoothness  \\\n",
       "0        17.99         10.38          122.80     1001.0          0.11840   \n",
       "1        20.57         17.77          132.90     1326.0          0.08474   \n",
       "2        19.69         21.25          130.00     1203.0          0.10960   \n",
       "3        11.42         20.38           77.58      386.1          0.14250   \n",
       "4        20.29         14.34          135.10     1297.0          0.10030   \n",
       "\n",
       "   diagnosis  \n",
       "0          0  \n",
       "1          0  \n",
       "2          0  \n",
       "3          0  \n",
       "4          0  "
      ]
     },
     "execution_count": 75,
     "metadata": {},
     "output_type": "execute_result"
    }
   ],
   "source": [
    "data = pd.read_csv(r'C:\\Users\\usuario\\Documents\\Nicole\\Upwork\\Breast_cancer_data.csv')\n",
    "# obs: Be carefull putting the \"r\" before your file path or it could return an error.\n",
    "data.head()"
   ]
  },
  {
   "cell_type": "code",
   "execution_count": 76,
   "id": "34b83ed7-50f9-462e-91ac-df040ead9294",
   "metadata": {},
   "outputs": [],
   "source": [
    "# number of features = 5 (mean_radius,\tmean_texture,\tmean_perimeter,\tmean_area,\tmean_smoothness)\n",
    "# diagnosis: Negative (0), Positive (1)\n",
    "\n",
    "# We will predict if the pacient has or not the breast cancer."
   ]
  },
  {
   "cell_type": "code",
   "execution_count": 77,
   "id": "56c8551f-04c4-4036-8498-59627291641b",
   "metadata": {},
   "outputs": [
    {
     "data": {
      "text/plain": [
       "<AxesSubplot: >"
      ]
     },
     "execution_count": 77,
     "metadata": {},
     "output_type": "execute_result"
    },
    {
     "data": {
      "image/png": "[encoded data removed]",
      "text/plain": [
       "<Figure size 640x480 with 2 Axes>"
      ]
     },
     "metadata": {},
     "output_type": "display_data"
    }
   ],
   "source": [
    "# Plotting a heat map the see the correlation between the features and the result\n",
    "# Remember that the Naive-Bayes method it's a method where the features are independent.\n",
    "\n",
    "# \"data\" is the DataFrame containing the data we set previously, where the last columns are the classes/targets\n",
    "# \"person\" is a correlation method\n",
    "corr = data.iloc[:,:-1].corr(method = \"pearson\")\n",
    "\n",
    "# Define the color palette for the heatmap\n",
    "# The color palette will be used to represent different levels of correlation\n",
    "cmap = sns.diverging_palette(250, 354, 80, 60, center = 'dark', as_cmap = True) \n",
    "\n",
    "\n",
    "# Plot the heatmap of the correlation matrix\n",
    "sns.heatmap(corr, vmax=1, vmin=-.1, cmap=cmap, square=True, linewidth=.2)"
   ]
  },
  {
   "cell_type": "markdown",
   "id": "81ba60ae-3a3c-430a-95b9-25697c5cf6fb",
   "metadata": {},
   "source": [
    "## Analysis\n",
    "You can see from the graph that there are correlated values, given by the pink color, and the value \"1\". And that makes sense, because \"radius\" and \"area\" really are correlated. \n",
    "However, as our dataset can't have correlated values, since it's the Naive-Bayes method, we'll have to choose one of the data points to keep and remove the others.\n",
    "Let's keep \"Mean_radius, mean_texture, mean_smoothness, diagnosis\"."
   ]
  },
  {
   "cell_type": "code",
   "execution_count": 78,
   "id": "3ebf6463-bf9d-40e7-a258-1e95fd65c82b",
   "metadata": {},
   "outputs": [
    {
     "data": {
      "text/html": [
       "<div>\n",
       "<style scoped>\n",
       "    .dataframe tbody tr th:only-of-type {\n",
       "        vertical-align: middle;\n",
       "    }\n",
       "\n",
       "    .dataframe tbody tr th {\n",
       "        vertical-align: top;\n",
       "    }\n",
       "\n",
       "    .dataframe thead th {\n",
       "        text-align: right;\n",
       "    }\n",
       "</style>\n",
       "<table border=\"1\" class=\"dataframe\">\n",
       "  <thead>\n",
       "    <tr style=\"text-align: right;\">\n",
       "      <th></th>\n",
       "      <th>mean_radius</th>\n",
       "      <th>mean_texture</th>\n",
       "      <th>mean_smoothness</th>\n",
       "      <th>diagnosis</th>\n",
       "    </tr>\n",
       "  </thead>\n",
       "  <tbody>\n",
       "    <tr>\n",
       "      <th>0</th>\n",
       "      <td>17.99</td>\n",
       "      <td>10.38</td>\n",
       "      <td>0.11840</td>\n",
       "      <td>0</td>\n",
       "    </tr>\n",
       "    <tr>\n",
       "      <th>1</th>\n",
       "      <td>20.57</td>\n",
       "      <td>17.77</td>\n",
       "      <td>0.08474</td>\n",
       "      <td>0</td>\n",
       "    </tr>\n",
       "    <tr>\n",
       "      <th>2</th>\n",
       "      <td>19.69</td>\n",
       "      <td>21.25</td>\n",
       "      <td>0.10960</td>\n",
       "      <td>0</td>\n",
       "    </tr>\n",
       "    <tr>\n",
       "      <th>3</th>\n",
       "      <td>11.42</td>\n",
       "      <td>20.38</td>\n",
       "      <td>0.14250</td>\n",
       "      <td>0</td>\n",
       "    </tr>\n",
       "    <tr>\n",
       "      <th>4</th>\n",
       "      <td>20.29</td>\n",
       "      <td>14.34</td>\n",
       "      <td>0.10030</td>\n",
       "      <td>0</td>\n",
       "    </tr>\n",
       "    <tr>\n",
       "      <th>5</th>\n",
       "      <td>12.45</td>\n",
       "      <td>15.70</td>\n",
       "      <td>0.12780</td>\n",
       "      <td>0</td>\n",
       "    </tr>\n",
       "    <tr>\n",
       "      <th>6</th>\n",
       "      <td>18.25</td>\n",
       "      <td>19.98</td>\n",
       "      <td>0.09463</td>\n",
       "      <td>0</td>\n",
       "    </tr>\n",
       "    <tr>\n",
       "      <th>7</th>\n",
       "      <td>13.71</td>\n",
       "      <td>20.83</td>\n",
       "      <td>0.11890</td>\n",
       "      <td>0</td>\n",
       "    </tr>\n",
       "    <tr>\n",
       "      <th>8</th>\n",
       "      <td>13.00</td>\n",
       "      <td>21.82</td>\n",
       "      <td>0.12730</td>\n",
       "      <td>0</td>\n",
       "    </tr>\n",
       "    <tr>\n",
       "      <th>9</th>\n",
       "      <td>12.46</td>\n",
       "      <td>24.04</td>\n",
       "      <td>0.11860</td>\n",
       "      <td>0</td>\n",
       "    </tr>\n",
       "  </tbody>\n",
       "</table>\n",
       "</div>"
      ],
      "text/plain": [
       "   mean_radius  mean_texture  mean_smoothness  diagnosis\n",
       "0        17.99         10.38          0.11840          0\n",
       "1        20.57         17.77          0.08474          0\n",
       "2        19.69         21.25          0.10960          0\n",
       "3        11.42         20.38          0.14250          0\n",
       "4        20.29         14.34          0.10030          0\n",
       "5        12.45         15.70          0.12780          0\n",
       "6        18.25         19.98          0.09463          0\n",
       "7        13.71         20.83          0.11890          0\n",
       "8        13.00         21.82          0.12730          0\n",
       "9        12.46         24.04          0.11860          0"
      ]
     },
     "execution_count": 78,
     "metadata": {},
     "output_type": "execute_result"
    }
   ],
   "source": [
    "data = data[[\"mean_radius\", \"mean_texture\", \"mean_smoothness\", \"diagnosis\"]]\n",
    "data.head(10)"
   ]
  },
  {
   "cell_type": "markdown",
   "id": "7124d486-0cb5-430b-936c-3ac409723a92",
   "metadata": {},
   "source": [
    "## Normal distribution"
   ]
  },
  {
   "cell_type": "code",
   "execution_count": 79,
   "id": "8263991b-e398-44ae-a21a-3fabbc9b33f5",
   "metadata": {},
   "outputs": [
    {
     "data": {
      "image/png": "[encoded data removed]",
      "text/plain": [
       "<IPython.core.display.Image object>"
      ]
     },
     "execution_count": 79,
     "metadata": {},
     "output_type": "execute_result"
    }
   ],
   "source": [
    "Image(filename=r'C:\\Users\\usuario\\Documents\\Nicole\\Upwork\\normaldistribution.png') "
   ]
  },
  {
   "cell_type": "markdown",
   "id": "a3e6c73a-c992-4cc1-bb16-5af2f10809f2",
   "metadata": {},
   "source": [
    "A \"normal\" or Gaussian distribution is a graphical distribution where the graph will be symmetrical on both sides of the mean value. \n",
    "We will check whether our data is distributed in this way and whether we can apply the normal distribution method. "
   ]
  },
  {
   "cell_type": "code",
   "execution_count": 80,
   "id": "7c1a547e-17ec-419f-8488-7efc0ab4a4fa",
   "metadata": {},
   "outputs": [
    {
     "data": {
      "text/plain": [
       "<AxesSubplot: xlabel='mean_texture', ylabel='Count'>"
      ]
     },
     "execution_count": 80,
     "metadata": {},
     "output_type": "execute_result"
    },
    {
     "data": {
      "image/png": "[encoded data removed]",
      "text/plain": [
       "<Figure size 1800x800 with 3 Axes>"
      ]
     },
     "metadata": {},
     "output_type": "display_data"
    }
   ],
   "source": [
    "fig, axes = plt.subplots(1, 3, figsize=(18,8), sharey= True)\n",
    "\n",
    "# Plotagem dos histogramas\n",
    "sns.histplot(data, ax=axes[0], x=\"mean_radius\", kde=True, color='r')\n",
    "sns.histplot(data, ax=axes[1], x=\"mean_smoothness\", kde=True, color='b')\n",
    "sns.histplot(data, ax=axes[2], x=\"mean_texture\", kde=True)\n",
    "\n"
   ]
  },
  {
   "cell_type": "markdown",
   "id": "c92e0f3e-bf17-4a3f-961d-8d544bc78e18",
   "metadata": {},
   "source": [
    "# The theory with the code:\n",
    "$ X = (x_{0} , x_{1}, x_{2}) , Y \\epsilon \\{ 0,1 \\} $\n",
    "\n",
    "$ P(Y|X) = \\frac{P(X = x_{0}, x_{1}, x_{2}|Y=y) * P(Y=y)}{P(X)} $\n",
    "\n",
    "\n",
    "We have to find the value of y that maximize the $ P(Y=y|X) $\n"
   ]
  },
  {
   "cell_type": "markdown",
   "id": "38ce2913-f657-4094-a570-efc9f54a3fc5",
   "metadata": {},
   "source": [
    "## Calculate P(Y=y) for all possible y"
   ]
  },
  {
   "cell_type": "code",
   "execution_count": 81,
   "id": "6572f34c-3988-4455-bb26-188542976371",
   "metadata": {},
   "outputs": [],
   "source": [
    "def calculate_prior(df,Y):\n",
    "    classes = sorted(list(df[Y].unique()))\n",
    "    prior = []\n",
    "    for i in classes:\n",
    "        prior.append(len(df[df[Y]==i])/len(df))\n",
    "    return prior\n",
    "\n",
    "\n",
    "# len(df[df[Y]==i] is the number of samples in df[Y], divided by the total number of samples. "
   ]
  },
  {
   "cell_type": "markdown",
   "id": "bd5072e4-77fa-441d-bee5-7ac3fea3eb8c",
   "metadata": {},
   "source": [
    "## Approach 1: Calculate P(X=x | Y=y) using Gaussian distribution"
   ]
  },
  {
   "cell_type": "markdown",
   "id": "e5521750-4114-4fc0-a931-35c0eab2aee2",
   "metadata": {},
   "source": [
    "This approach, is the likelihood, where all the x(i) are independent. \n",
    "Here, the $ P(X = (x_{0} , x_{1}, x_{2}) | Y = y) $ is given by the product of: \n",
    "$ P(X=x_{0}| Y = y) * P(X=x_{1}| Y = y) * P(X=x_{2}| Y = y) $"
   ]
  },
  {
   "cell_type": "code",
   "execution_count": 82,
   "id": "26fd2bb8-4ecb-42dd-bc54-985ebe7b3aee",
   "metadata": {},
   "outputs": [],
   "source": [
    "def calculate_likelihood_gaussin(df, feat_name, feat_val, Y, label):\n",
    "    feat = list(df.columns)\n",
    "    df = df[df[Y]==label]\n",
    "\n",
    "    #Here we set the normal distribution\n",
    "    mean, std = df[feat_name].mean(), df[feat_name].std()\n",
    "    #The formula of probability density function of normal distribution\n",
    "    p_x_given_y = (1 / (np.sqrt(2 * np.pi) * std)) * np.exp(-((feat_val-mean)**2 / (2 * std**2)))\n",
    "    return p_x_given_y"
   ]
  },
  {
   "cell_type": "markdown",
   "id": "bdc0c800-595f-42c3-8112-07875110ace3",
   "metadata": {},
   "source": [
    "feat = list(df.columns): This gets a list of the column names of the DataFrame df.\n",
    "\n",
    "df = df[df[Y]==label]: This filters the DataFrame to keep only the rows where the Y class column has the value label. In other words, we are only considering the samples that belong to the specific class we are analyzing.\n",
    "\n",
    "mean, std = df[feat_name].mean(), df[feat_name].std(): This calculates the mean (mean) and standard deviation (std) of the resource value (feat_name) for the samples belonging to the specified class.\n",
    "\n",
    "(1 / (np.sqrt(2* np.pi) * std)) * np.exp(-((feat_val-mean)**2 / (2* std**2)): This is the formula for calculating the probability of a feat_val value given that the class is label, assuming a Gaussian distribution. The formula represents the probability density function (PDF) of a normal distribution.\n",
    "\n",
    "$\\frac{1}{\\sqrt{2 \\pi} \\cdot \\text{std}} \\cdot e^{-\\frac{(x - \\text{mean})^2}{2 \\cdot \\text{std}^2}} $\n",
    "\n",
    "return p_x_given_y: Returns the calculated probability of a feat_val resource value given that the class is label, assuming a Gaussian distribution."
   ]
  },
  {
   "cell_type": "markdown",
   "id": "de7d7430-545b-495c-8d56-b1844c649ece",
   "metadata": {},
   "source": [
    "## Calculate P(X = x1 | Y = y)P(X = x2 | Y = y)...P(X = xn | Y = y) * P(Y=y) for all y find the maxium "
   ]
  },
  {
   "cell_type": "code",
   "execution_count": 83,
   "id": "8ffcf946-b9d4-446d-9a8e-e0ffbe290e6f",
   "metadata": {},
   "outputs": [],
   "source": [
    "def naive_bayes_gaussian(df, X, Y):\n",
    "    #get features names\n",
    "    features = list(df.columns)[:-1]\n",
    "\n",
    "    # Calculate prior probabilities\n",
    "    prior = calculate_prior(df , Y)\n",
    "\n",
    "    Y_pred = []\n",
    "\n",
    "    #loop over every data sample\n",
    "    for x in X:\n",
    "        #calculate likelihood\n",
    "        labels = sorted(list(df[Y].unique())) # Get unique classes\n",
    "        likelihood = [1]*len(labels)\n",
    "        for j in range(len(labels)): # Initialize list of likelihoods for each class\n",
    "            for i in range(len(features)):\n",
    "                # Multiply likelihood of each feature for each class\n",
    "                likelihood[j] *= calculate_likelihood_gaussin(df, features[i], x[i], Y, labels[j])\n",
    "\n",
    "        #calculate posterior probability (numerator only)\n",
    "        post_prob = [1]*len(labels) # Initialize list of posterior probabilities for each class\n",
    "        for j in range(len(labels)):\n",
    "            post_prob[j]= likelihood[j] * prior[j]\n",
    "            \n",
    "        # Add the class with highest probability as the prediction for the current sample\n",
    "        Y_pred.append(np.argmax(post_prob))\n",
    "        \n",
    "    return np.array(Y_pred)"
   ]
  },
  {
   "cell_type": "markdown",
   "id": "364b2e27-56c0-436c-a72a-aa99a7760682",
   "metadata": {},
   "source": [
    "## Test Gaussian model"
   ]
  },
  {
   "cell_type": "code",
   "execution_count": 84,
   "id": "febdebd9-22e6-4894-9bcd-e40c6e80a191",
   "metadata": {},
   "outputs": [
    {
     "name": "stdout",
     "output_type": "stream",
     "text": [
      "[[36  4]\n",
      " [ 0 74]]\n",
      "0.9736842105263158\n"
     ]
    }
   ],
   "source": [
    "from sklearn.model_selection import train_test_split\n",
    "# Split the data into training and testing sets\n",
    "train, test = train_test_split(data, test_size = .2, random_state=41)\n",
    "\n",
    "# Extract features and labels from the testing set\n",
    "X_test = test.iloc[:, :-1].values # Extract features, excluding the last column (class)\n",
    "Y_test = test.iloc[:, -1].values  # Extract labels, taking only the last column (class)\n",
    "Y_pred = naive_bayes_gaussian(train, X=X_test, Y=\"diagnosis\")\n",
    "\n",
    "# Use the Gaussian Naive Bayes model to predict labels for the testing set\n",
    "from sklearn.metrics import confusion_matrix, f1_score\n",
    "\n",
    "# Print the confusion matrix to evaluate the performance of the model\n",
    "print(confusion_matrix(Y_test, Y_pred))\n",
    "# Compute the F1 score to evaluate the model's accuracy\n",
    "print(f1_score(Y_test, Y_pred))"
   ]
  },
  {
   "cell_type": "markdown",
   "id": "7a49425b-6d09-4e4a-982a-6fd474d81b82",
   "metadata": {},
   "source": [
    "Just to understand the confusion matrix:\n",
    "[[36 4]\n",
    " [0  74]]\n",
    "\n",
    "It means we have: 36 = Correct positives, 4 = False positives, 0 = False negatives, 74 = Correct negatives.\n",
    "This is something important to look at. Because this means that 4 people would receive a positive diagnosis for cancer, even though they don't have it, so they could start treatment without having the disease. In this case, it would be important to improve the model so that this number is equal to 0."
   ]
  },
  {
   "cell_type": "markdown",
   "id": "b61a5450-17ca-4ddd-9ab0-b34a6928cd14",
   "metadata": {},
   "source": [
    "## Convert continuos features to categorical features"
   ]
  },
  {
   "cell_type": "code",
   "execution_count": 87,
   "id": "06f4fb61-3cba-457d-a07c-d0e222cd0f63",
   "metadata": {},
   "outputs": [
    {
     "data": {
      "text/html": [
       "<div>\n",
       "<style scoped>\n",
       "    .dataframe tbody tr th:only-of-type {\n",
       "        vertical-align: middle;\n",
       "    }\n",
       "\n",
       "    .dataframe tbody tr th {\n",
       "        vertical-align: top;\n",
       "    }\n",
       "\n",
       "    .dataframe thead th {\n",
       "        text-align: right;\n",
       "    }\n",
       "</style>\n",
       "<table border=\"1\" class=\"dataframe\">\n",
       "  <thead>\n",
       "    <tr style=\"text-align: right;\">\n",
       "      <th></th>\n",
       "      <th>cat_mean_radius</th>\n",
       "      <th>cat_mean_texture</th>\n",
       "      <th>cat_mean_smoothness</th>\n",
       "      <th>diagnosis</th>\n",
       "    </tr>\n",
       "  </thead>\n",
       "  <tbody>\n",
       "    <tr>\n",
       "      <th>0</th>\n",
       "      <td>1</td>\n",
       "      <td>0</td>\n",
       "      <td>1</td>\n",
       "      <td>0</td>\n",
       "    </tr>\n",
       "    <tr>\n",
       "      <th>1</th>\n",
       "      <td>1</td>\n",
       "      <td>0</td>\n",
       "      <td>0</td>\n",
       "      <td>0</td>\n",
       "    </tr>\n",
       "    <tr>\n",
       "      <th>2</th>\n",
       "      <td>1</td>\n",
       "      <td>1</td>\n",
       "      <td>1</td>\n",
       "      <td>0</td>\n",
       "    </tr>\n",
       "    <tr>\n",
       "      <th>3</th>\n",
       "      <td>0</td>\n",
       "      <td>1</td>\n",
       "      <td>2</td>\n",
       "      <td>0</td>\n",
       "    </tr>\n",
       "    <tr>\n",
       "      <th>4</th>\n",
       "      <td>1</td>\n",
       "      <td>0</td>\n",
       "      <td>1</td>\n",
       "      <td>0</td>\n",
       "    </tr>\n",
       "    <tr>\n",
       "      <th>5</th>\n",
       "      <td>0</td>\n",
       "      <td>0</td>\n",
       "      <td>2</td>\n",
       "      <td>0</td>\n",
       "    </tr>\n",
       "    <tr>\n",
       "      <th>6</th>\n",
       "      <td>1</td>\n",
       "      <td>1</td>\n",
       "      <td>1</td>\n",
       "      <td>0</td>\n",
       "    </tr>\n",
       "    <tr>\n",
       "      <th>7</th>\n",
       "      <td>0</td>\n",
       "      <td>1</td>\n",
       "      <td>1</td>\n",
       "      <td>0</td>\n",
       "    </tr>\n",
       "    <tr>\n",
       "      <th>8</th>\n",
       "      <td>0</td>\n",
       "      <td>1</td>\n",
       "      <td>2</td>\n",
       "      <td>0</td>\n",
       "    </tr>\n",
       "    <tr>\n",
       "      <th>9</th>\n",
       "      <td>0</td>\n",
       "      <td>1</td>\n",
       "      <td>1</td>\n",
       "      <td>0</td>\n",
       "    </tr>\n",
       "  </tbody>\n",
       "</table>\n",
       "</div>"
      ],
      "text/plain": [
       "  cat_mean_radius cat_mean_texture cat_mean_smoothness  diagnosis\n",
       "0               1                0                   1          0\n",
       "1               1                0                   0          0\n",
       "2               1                1                   1          0\n",
       "3               0                1                   2          0\n",
       "4               1                0                   1          0\n",
       "5               0                0                   2          0\n",
       "6               1                1                   1          0\n",
       "7               0                1                   1          0\n",
       "8               0                1                   2          0\n",
       "9               0                1                   1          0"
      ]
     },
     "execution_count": 87,
     "metadata": {},
     "output_type": "execute_result"
    }
   ],
   "source": [
    "# Create categorical features based on binning of continuous features\n",
    "# bins are the number of equally spaced categories\n",
    "data[\"cat_mean_radius\"] = pd.cut(data[\"mean_radius\"].values, bins= 3, labels = [0,1,2])\n",
    "data[\"cat_mean_texture\"] = pd.cut(data[\"mean_texture\"].values, bins= 3, labels = [0,1,2])\n",
    "data[\"cat_mean_smoothness\"] = pd.cut(data[\"mean_smoothness\"].values, bins= 3, labels = [0,1,2])\n",
    "\n",
    "data = data.drop(columns=[\"mean_radius\", \"mean_texture\", \"mean_smoothness\"])\n",
    "# Rearrange the columns to put the new categorical features first, followed by the diagnosis column\n",
    "data = data[[\"cat_mean_radius\", \"cat_mean_texture\", \"cat_mean_smoothness\", \"diagnosis\"]]\n",
    "data.head(10)"
   ]
  },
  {
   "cell_type": "markdown",
   "id": "0ace8de1-78f4-4051-84ef-2082645c2cc5",
   "metadata": {},
   "source": [
    "## Approach 2: Calculate P(X=x | Y = y) categorically"
   ]
  },
  {
   "cell_type": "code",
   "execution_count": 88,
   "id": "31175da6-9895-4046-b4c1-24b3b444a33f",
   "metadata": {},
   "outputs": [],
   "source": [
    "def calculate_likelihood_categorical(df, feat_name, feat_val, Y, label):\n",
    "    feat = list(df.columns)\n",
    "    df = df[df[Y] == label]\n",
    "    p_x_given_y = len(df[df[feat_name]==feat_val]) / len(df)\n",
    "    return p_x_given_y"
   ]
  },
  {
   "cell_type": "markdown",
   "id": "95ebd127-8d64-4cfd-ae9d-98d703c47923",
   "metadata": {},
   "source": [
    "## Calculate P(X = x1 | Y = y)P(X = x2 | Y = y)...P(X = xn | Y = y) * P(Y=y) for all y find the maxium "
   ]
  },
  {
   "cell_type": "code",
   "execution_count": 89,
   "id": "0ba795bc-dacd-4caf-a5ef-4a31707b46ab",
   "metadata": {},
   "outputs": [],
   "source": [
    "def naive_bayes_gaussian(df, X, Y):\n",
    "    #get features names\n",
    "    features = list(df.columns)[:-1]\n",
    "\n",
    "    # Calculate prior probabilities\n",
    "    prior = calculate_prior(df , Y)\n",
    "\n",
    "    Y_pred = []\n",
    "\n",
    "    #loop over every data sample\n",
    "    for x in X:\n",
    "        #calculate likelihood\n",
    "        labels = sorted(list(df[Y].unique())) # Get unique classes\n",
    "        likelihood = [1]*len(labels)\n",
    "        \n",
    "        for j in range(len(labels)): # Initialize list of likelihoods for each class\n",
    "            for i in range(len(features)):\n",
    "                # Multiply likelihood of each feature for each class\n",
    "                likelihood[j] *= calculate_likelihood_categorical(df, features[i], x[i], Y, labels[j])\n",
    "\n",
    "        #calculate posterior probability (numerator only)\n",
    "        post_prob = [1]*len(labels) # Initialize list of posterior probabilities for each class\n",
    "        for j in range(len(labels)):\n",
    "            post_prob[j]= likelihood[j] * prior[j]\n",
    "            \n",
    "        # Add the class with highest probability as the prediction for the current sample\n",
    "        Y_pred.append(np.argmax(post_prob))\n",
    "        \n",
    "    return np.array(Y_pred)"
   ]
  },
  {
   "cell_type": "markdown",
   "id": "29e9b6d8-a54f-4917-a029-3b6d2e1dc405",
   "metadata": {},
   "source": [
    "## Test categorical Model"
   ]
  },
  {
   "cell_type": "code",
   "execution_count": 90,
   "id": "ef30ba6f-59fb-4275-9008-c5f4f59e024d",
   "metadata": {},
   "outputs": [
    {
     "name": "stdout",
     "output_type": "stream",
     "text": [
      "[[38  2]\n",
      " [ 5 69]]\n",
      "0.9517241379310345\n"
     ]
    }
   ],
   "source": [
    "from sklearn.model_selection import train_test_split\n",
    "# Split the data into training and testing sets\n",
    "train, test = train_test_split(data, test_size = .2, random_state=41)\n",
    "\n",
    "# Extract features and labels from the testing set\n",
    "X_test = test.iloc[:, :-1].values # Extract features, excluding the last column (class)\n",
    "Y_test = test.iloc[:, -1].values  # Extract labels, taking only the last column (class)\n",
    "Y_pred = naive_bayes_gaussian(train, X=X_test, Y=\"diagnosis\")\n",
    "\n",
    "# Use the Gaussian Naive Bayes model to predict labels for the testing set\n",
    "from sklearn.metrics import confusion_matrix, f1_score\n",
    "\n",
    "# Print the confusion matrix to evaluate the performance of the model\n",
    "print(confusion_matrix(Y_test, Y_pred))\n",
    "# Compute the F1 score to evaluate the model's accuracy\n",
    "print(f1_score(Y_test, Y_pred))"
   ]
  },
  {
   "cell_type": "markdown",
   "id": "b0cb49e4-44c8-493b-b164-e03d80b3cc38",
   "metadata": {},
   "source": [
    "This shows us that this format is weaker than the previous one, showing that the Gaussian distribution worked better than categorization."
   ]
  },
  {
   "cell_type": "code",
   "execution_count": null,
   "id": "f72fec0c-b699-4143-a1bf-ddc53c15a1f0",
   "metadata": {},
   "outputs": [],
   "source": []
  }
 ],
 "metadata": {
  "kernelspec": {
   "display_name": "Python 3 (ipykernel)",
   "language": "python",
   "name": "python3"
  },
  "language_info": {
   "codemirror_mode": {
    "name": "ipython",
    "version": 3
   },
   "file_extension": ".py",
   "mimetype": "text/x-python",
   "name": "python",
   "nbconvert_exporter": "python",
   "pygments_lexer": "ipython3",
   "version": "3.10.0"
  }
 },
 "nbformat": 4,
 "nbformat_minor": 5
}
